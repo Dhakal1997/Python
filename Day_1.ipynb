{
  "nbformat": 4,
  "nbformat_minor": 0,
  "metadata": {
    "colab": {
      "provenance": [],
      "authorship_tag": "ABX9TyMYB49UyDRiK2uXigbVkdN6",
      "include_colab_link": true
    },
    "kernelspec": {
      "name": "python3",
      "display_name": "Python 3"
    },
    "language_info": {
      "name": "python"
    }
  },
  "cells": [
    {
      "cell_type": "markdown",
      "metadata": {
        "id": "view-in-github",
        "colab_type": "text"
      },
      "source": [
        "<a href=\"https://colab.research.google.com/github/Dhakal1997/Python/blob/main/Day_1.ipynb\" target=\"_parent\"><img src=\"https://colab.research.google.com/assets/colab-badge.svg\" alt=\"Open In Colab\"/></a>"
      ]
    },
    {
      "cell_type": "code",
      "execution_count": null,
      "metadata": {
        "id": "iVZ7y_ki_VLB"
      },
      "outputs": [],
      "source": []
    },
    {
      "cell_type": "markdown",
      "source": [
        "#headings\n",
        "1. comments in python"
      ],
      "metadata": {
        "id": "6YDnpQzQ_k81"
      }
    },
    {
      "cell_type": "code",
      "source": [
        "#comments for printing Day 1\n",
        "print(\"Day-1\")"
      ],
      "metadata": {
        "colab": {
          "base_uri": "https://localhost:8080/"
        },
        "id": "4sNG8_Vb_ouf",
        "outputId": "622ee38d-2109-4fe4-8c5e-19e608cd6f8b"
      },
      "execution_count": 2,
      "outputs": [
        {
          "output_type": "stream",
          "name": "stdout",
          "text": [
            "Day-1\n"
          ]
        }
      ]
    },
    {
      "cell_type": "markdown",
      "source": [
        "Three example of comments."
      ],
      "metadata": {
        "id": "rY3OyhAEA5W2"
      }
    },
    {
      "cell_type": "code",
      "source": [
        "#we assigning variabale a &b to be 5 and 10\n",
        "a = 5\n",
        "b = 10\n",
        "\n",
        "#we printed the sum of given two number\n",
        "print(a+b)\n",
        "\n",
        "\n",
        "\n"
      ],
      "metadata": {
        "colab": {
          "base_uri": "https://localhost:8080/"
        },
        "id": "LhlzgRyWBHAS",
        "outputId": "52c139d9-eacf-4a1b-f91c-c43adfdfd437"
      },
      "execution_count": 4,
      "outputs": [
        {
          "output_type": "stream",
          "name": "stdout",
          "text": [
            "15\n"
          ]
        }
      ]
    },
    {
      "cell_type": "code",
      "source": [
        "# we assign variables x and y to be 20 and 30\n",
        "X = 20\n",
        "Y = 30\n",
        "# we subtracted two numbers\n",
        "\n",
        "print(X- Y)\n"
      ],
      "metadata": {
        "colab": {
          "base_uri": "https://localhost:8080/"
        },
        "id": "jIn2vEEsCmk5",
        "outputId": "1f7c1ffd-a92a-438b-fb87-fb5168021930"
      },
      "execution_count": 8,
      "outputs": [
        {
          "output_type": "stream",
          "name": "stdout",
          "text": [
            "-10\n"
          ]
        }
      ]
    },
    {
      "cell_type": "code",
      "source": [
        "# two variables assigned p and q\n",
        "p = 90\n",
        "q = 20\n",
        "# we divided value of p and q\n",
        "print(p/q)"
      ],
      "metadata": {
        "colab": {
          "base_uri": "https://localhost:8080/"
        },
        "id": "K3glF5_yDjIe",
        "outputId": "dc19d242-f939-43f3-b662-5823fa75599e"
      },
      "execution_count": 9,
      "outputs": [
        {
          "output_type": "stream",
          "name": "stdout",
          "text": [
            "4.5\n"
          ]
        }
      ]
    },
    {
      "cell_type": "markdown",
      "source": [
        "Linux Keys"
      ],
      "metadata": {
        "id": "lHE8Y-V2P2YV"
      }
    }
  ]
}